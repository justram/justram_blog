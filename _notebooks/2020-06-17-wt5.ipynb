{
 "cells": [
  {
   "cell_type": "markdown",
   "metadata": {
    "colab_type": "text",
    "id": "9GljwdZlLAKM"
   },
   "source": [
    "# WT5?! Self-explanation of Language Models\n",
    "> Explainability, meanwhile, is the extent to which the internal mechanics of a machine or deep learning system can be explained in human terms. --- Richard Gall\n",
    "\n",
    "- toc: true \n",
    "- badges: true\n",
    "- comments: true\n",
    "- categories: [language model, explainability]\n",
    "- image: images/chart-preview.png"
   ]
  },
  {
   "cell_type": "markdown",
   "metadata": {
    "colab_type": "text",
    "id": "VbRQZLjELAKQ"
   },
   "source": [
    "# Intro\n",
    "\n",
    "深度學習 (Deep Learning)，受惠於計算能力的成長以及計算框架的成熟，許多研究領域如: 視覺 (vision), 語音 (speech), 自然語言 (natural language) 在近5年有了飛躍性的技術成長。其中, 在自然語言處理 (Natural Language Processing) 領域, Delvin et. al. (2018) 提出的 BERT (Bidirectional Encoder Representations from Transformers), 在大量文本上的預訓練 (pre-train) 語言模型 (language model), 在眾多自然語言理解 (Natural Language Understanding) 任務達到了當時的最高技術水平 (state of the art, or SOTA)。 基於BERT的思想, 許多其改良版本如: [RoBERTa](https://arxiv.org/abs/1907.11692), [SpanBERT](https://arxiv.org/abs/1907.10529), [ALBERT](https://arxiv.org/abs/1909.11942), [ELECTRA](https://openreview.net/pdf?id=r1xMH1BtvB), 致力於研究如何調整預訓練任務, 降低模型複雜度, 或是引入新的預訓練思想等等。有別於此研究方向, 2019年, [Colin et.al (2019)](https://arxiv.org/abs/1910.10683) 與 [Lewis et. al (2019)](https://arxiv.org/abs/1910.13461) 分別提出在預訓練階段重新導入了完整Transformer的Sequence-to-Sequence (Seq2Seq)架構, 而非BERT的單純編碼器 (Encoder), 或是[GPT-2](https://d4mucfpksywv.cloudfront.net/better-language-models/language-models.pdf) (最新改良版本為[GPT-3](https://arxiv.org/abs/2005.14165))的單純解碼器 (Decoder)結構。\n",
    "\n",
    "[Colin et. al (2019)](https://arxiv.org/abs/1910.10683) 所提出的Text-To-Text Transfer Transformer (T5)模型不僅止於在pretrain階段使用Seq2Seq架構, 其Text-To-Text的思想將所有預訓練階段後的下游任務如: 閱讀理解 (reading comprehension), 句子相似度 (senetence similarity), 文字蘊含 (textual entailment)等等, 皆轉化為text in text out的形式。此方法連同其預訓練的模型, 在各大NLP排行榜刷新了最佳紀錄。 將模型所有任務的輸入與輸出皆轉化為text in text out為NLP領域帶來許多嶄新的應用方式與想像, 例如各NLP下游任務的多任務學習(Multi-task learning)可能帶來的模型推廣能力, 以及增進模型的可解釋性。\n",
    "\n",
    "BERT等基於深度神經網路 (Deep Neural Network)模型的在各大排行榜的標準測試平台上有著卓越的表現, 但要理解深度神經網路為何有效仍然是近年來的重大研究議題。 近年諸多方法皆基於神經網路之視覺化, 例如: (1) 將BERT中所使用的Self-attention架構的權重視覺化網路聯通圖, 並由研究者觀察其連接模式 (pattern) 賦予解釋。 (2) 將BERT學習到的向量表徵 (vector representations) 降維後, 由研究者觀察二維或三維空間中向量點與點之間的關係做出推論。 有別於前述常使用於傳統機器學習的模型行為探測與解釋方法之外, T5所帶來的text-to-text架構使得一個新模式: 模型自行輸出文字, 研究員\n",
    "由輸出文字中觀察模式與設計測量方法, 成為了可能。\n",
    "\n",
    "本文介紹的是[Colin et. al (2020)](https://arxiv.org/abs/2004.14546)的新工作, 作者使用T5架構, 將在NLP的解釋任務化為text-to-text的形式, 在解釋任務的訓練資料上進行微調 (finetuning) 後, 得到的新模型: WT5 (Why, T5?) 能夠以文字方式對其預測結果做出解釋。"
   ]
  },
  {
   "cell_type": "markdown",
   "metadata": {
    "colab_type": "text",
    "id": "Kziu5m0mQr8m"
   },
   "source": [
    "# Approach\n",
    "接下來, 我們藉由[Transformers](https://github.com/huggingface/transformers) --- developed by [Hugging Face](https://huggingface.co/) --- 這個開源模型庫來讓大家熟悉Intro中所提到的概念。"
   ]
  },
  {
   "cell_type": "code",
   "execution_count": 1,
   "metadata": {
    "colab": {
     "base_uri": "https://localhost:8080/",
     "height": 627
    },
    "colab_type": "code",
    "id": "lkR9eXM8LAKT",
    "outputId": "5ae6b776-b689-4e91-b240-d7b096dc2513"
   },
   "outputs": [
    {
     "name": "stdout",
     "output_type": "stream",
     "text": [
      "Collecting transformers\n",
      "\u001b[?25l  Downloading https://files.pythonhosted.org/packages/48/35/ad2c5b1b8f99feaaf9d7cdadaeef261f098c6e1a6a2935d4d07662a6b780/transformers-2.11.0-py3-none-any.whl (674kB)\n",
      "\u001b[K     |████████████████████████████████| 675kB 2.8MB/s eta 0:00:01\n",
      "\u001b[?25hRequirement already satisfied: requests in /usr/local/lib/python3.6/dist-packages (from transformers) (2.23.0)\n",
      "Requirement already satisfied: dataclasses; python_version < \"3.7\" in /usr/local/lib/python3.6/dist-packages (from transformers) (0.7)\n",
      "Requirement already satisfied: regex!=2019.12.17 in /usr/local/lib/python3.6/dist-packages (from transformers) (2019.12.20)\n",
      "Requirement already satisfied: numpy in /usr/local/lib/python3.6/dist-packages (from transformers) (1.18.5)\n",
      "Collecting sentencepiece\n",
      "\u001b[?25l  Downloading https://files.pythonhosted.org/packages/d4/a4/d0a884c4300004a78cca907a6ff9a5e9fe4f090f5d95ab341c53d28cbc58/sentencepiece-0.1.91-cp36-cp36m-manylinux1_x86_64.whl (1.1MB)\n",
      "\u001b[K     |████████████████████████████████| 1.1MB 14.5MB/s \n",
      "\u001b[?25hCollecting sacremoses\n",
      "\u001b[?25l  Downloading https://files.pythonhosted.org/packages/7d/34/09d19aff26edcc8eb2a01bed8e98f13a1537005d31e95233fd48216eed10/sacremoses-0.0.43.tar.gz (883kB)\n",
      "\u001b[K     |████████████████████████████████| 890kB 18.6MB/s \n",
      "\u001b[?25hRequirement already satisfied: filelock in /usr/local/lib/python3.6/dist-packages (from transformers) (3.0.12)\n",
      "Collecting tokenizers==0.7.0\n",
      "\u001b[?25l  Downloading https://files.pythonhosted.org/packages/14/e5/a26eb4716523808bb0a799fcfdceb6ebf77a18169d9591b2f46a9adb87d9/tokenizers-0.7.0-cp36-cp36m-manylinux1_x86_64.whl (3.8MB)\n",
      "\u001b[K     |████████████████████████████████| 3.8MB 24.0MB/s \n",
      "\u001b[?25hRequirement already satisfied: packaging in /usr/local/lib/python3.6/dist-packages (from transformers) (20.4)\n",
      "Requirement already satisfied: tqdm>=4.27 in /usr/local/lib/python3.6/dist-packages (from transformers) (4.41.1)\n",
      "Requirement already satisfied: certifi>=2017.4.17 in /usr/local/lib/python3.6/dist-packages (from requests->transformers) (2020.4.5.2)\n",
      "Requirement already satisfied: urllib3!=1.25.0,!=1.25.1,<1.26,>=1.21.1 in /usr/local/lib/python3.6/dist-packages (from requests->transformers) (1.24.3)\n",
      "Requirement already satisfied: idna<3,>=2.5 in /usr/local/lib/python3.6/dist-packages (from requests->transformers) (2.9)\n",
      "Requirement already satisfied: chardet<4,>=3.0.2 in /usr/local/lib/python3.6/dist-packages (from requests->transformers) (3.0.4)\n",
      "Requirement already satisfied: six in /usr/local/lib/python3.6/dist-packages (from sacremoses->transformers) (1.12.0)\n",
      "Requirement already satisfied: click in /usr/local/lib/python3.6/dist-packages (from sacremoses->transformers) (7.1.2)\n",
      "Requirement already satisfied: joblib in /usr/local/lib/python3.6/dist-packages (from sacremoses->transformers) (0.15.1)\n",
      "Requirement already satisfied: pyparsing>=2.0.2 in /usr/local/lib/python3.6/dist-packages (from packaging->transformers) (2.4.7)\n",
      "Building wheels for collected packages: sacremoses\n",
      "  Building wheel for sacremoses (setup.py) ... \u001b[?25l\u001b[?25hdone\n",
      "  Created wheel for sacremoses: filename=sacremoses-0.0.43-cp36-none-any.whl size=893260 sha256=4411973ff5b191e8f18328dac9811d4d5cc4be6ae2407d238f34dc1b9c7aa6c3\n",
      "  Stored in directory: /root/.cache/pip/wheels/29/3c/fd/7ce5c3f0666dab31a50123635e6fb5e19ceb42ce38d4e58f45\n",
      "Successfully built sacremoses\n",
      "Installing collected packages: sentencepiece, sacremoses, tokenizers, transformers\n",
      "Successfully installed sacremoses-0.0.43 sentencepiece-0.1.91 tokenizers-0.7.0 transformers-2.11.0\n"
     ]
    }
   ],
   "source": [
    "!pip install transformers"
   ]
  },
  {
   "cell_type": "markdown",
   "metadata": {
    "colab_type": "text",
    "id": "r2q2nuSqSAdt"
   },
   "source": [
    "首先, 引入必要的物件:\n",
    "1) 模型: T5ForConditionalGeneration,\n",
    "2) 純文字至模型輸入轉換: T5Tokenizer"
   ]
  },
  {
   "cell_type": "code",
   "execution_count": 2,
   "metadata": {
    "colab": {
     "base_uri": "https://localhost:8080/",
     "height": 165,
     "referenced_widgets": [
      "97e4559267194be89b0a1b65b4eca32d",
      "30652817e6fd4a96bd65bf2ab348009e",
      "d3512005069744a5bb69759e64933c06",
      "0d55595312af47b58ac7e737988f1252",
      "3f4a2457d4bd4d2ea282c2cde7fcea97",
      "8c212a44e04145ed9badace4822ab07c",
      "a307a48c0ae246fc89737d2a3987f0eb",
      "8a750d81d93947a8ab72c20b30aa933b",
      "90490c4924cc42ec847c3b2674f00ab9",
      "0ec6f5d035854ae3aa2e5c165b1608a6",
      "d53fe158e4fc45ddb4024c965b7b67ce",
      "ecbf5ab2ccfd42c6871594602617ee11",
      "42cd1cbbe5304144bb842adc86e25e92",
      "81732920262b417da25bd046c53372c3",
      "3369aa3c5216446aa8a6837c378c1d6c",
      "355d390ffd944514a1885ad65c3b610e",
      "47118c62b3ef4cd4bfef954ba8a275b1",
      "f6c1b291842f422d98875ab3049ca45b",
      "cf829c1151fd41d0ba60a19f9f50e122",
      "66c2aec2732045798819d240d153bc23",
      "99fea38f75d046838d36d40378b3f639",
      "45a2033bb2b64247a68aaa1f066c728b",
      "19b43fa6f4474f32ac7fa91df4e846dd",
      "35ee7e2667a14e38b67ffeeb582e1f04"
     ]
    },
    "colab_type": "code",
    "id": "Z3BSXzeKLG9-",
    "outputId": "1979a662-191d-474a-b439-684ec0b2f1a0"
   },
   "outputs": [
    {
     "data": {
      "application/vnd.jupyter.widget-view+json": {
       "model_id": "97e4559267194be89b0a1b65b4eca32d",
       "version_major": 2,
       "version_minor": 0
      },
      "text/plain": [
       "HBox(children=(FloatProgress(value=0.0, description='Downloading', max=791656.0, style=ProgressStyle(descripti…"
      ]
     },
     "metadata": {
      "tags": []
     },
     "output_type": "display_data"
    },
    {
     "name": "stdout",
     "output_type": "stream",
     "text": [
      "\n"
     ]
    },
    {
     "data": {
      "application/vnd.jupyter.widget-view+json": {
       "model_id": "90490c4924cc42ec847c3b2674f00ab9",
       "version_major": 2,
       "version_minor": 0
      },
      "text/plain": [
       "HBox(children=(FloatProgress(value=0.0, description='Downloading', max=1197.0, style=ProgressStyle(description…"
      ]
     },
     "metadata": {
      "tags": []
     },
     "output_type": "display_data"
    },
    {
     "name": "stdout",
     "output_type": "stream",
     "text": [
      "\n"
     ]
    },
    {
     "data": {
      "application/vnd.jupyter.widget-view+json": {
       "model_id": "47118c62b3ef4cd4bfef954ba8a275b1",
       "version_major": 2,
       "version_minor": 0
      },
      "text/plain": [
       "HBox(children=(FloatProgress(value=0.0, description='Downloading', max=242136741.0, style=ProgressStyle(descri…"
      ]
     },
     "metadata": {
      "tags": []
     },
     "output_type": "display_data"
    },
    {
     "name": "stdout",
     "output_type": "stream",
     "text": [
      "\n"
     ]
    }
   ],
   "source": [
    "import torch\n",
    "from transformers import T5ForConditionalGeneration, T5Tokenizer\n",
    "\n",
    "# Pretrained model name for a specific architecture and tokenization\n",
    "pretrained_weights = 't5-small'\n",
    "\n",
    "tokenizer = T5Tokenizer.from_pretrained(pretrained_weights)\n",
    "model = T5ForConditionalGeneration.from_pretrained(pretrained_weights)"
   ]
  },
  {
   "cell_type": "markdown",
   "metadata": {
    "colab_type": "text",
    "id": "flAycoqsSqnr"
   },
   "source": [
    "為了沒有使用NLP模型基礎的讀者, 此處我們演示一下從文字輸入如何轉換到模型真正看到的輸入。 這裡讀者們需要理解的觀念為: 一般而言, 我們所使用的純文字必須經過將字符轉換為該字符所對應的代號, NLP模型才能才能進行進一步的處理。\n",
    "\n",
    "如下所示, 我們將\"Here is some text to encode\"這一連串的字串 (string) 資料, 將字符組 (character set) 經過tokenizer轉換為對應的字符組對應編號 (id) 。"
   ]
  },
  {
   "cell_type": "code",
   "execution_count": 6,
   "metadata": {
    "colab": {
     "base_uri": "https://localhost:8080/",
     "height": 104
    },
    "colab_type": "code",
    "id": "g8CjmRzeNxhQ",
    "outputId": "3fe9b24c-d68c-47df-8350-f43fdc9f9242"
   },
   "outputs": [
    {
     "name": "stdout",
     "output_type": "stream",
     "text": [
      "original text:\n",
      " Here is some text to encode\n",
      "==========\n",
      "tokenized id:\n",
      " tensor([[  947,    19,   128,  1499,    12, 23734]])\n"
     ]
    }
   ],
   "source": [
    "test_text = \"Here is some text to encode\"\n",
    "input_ids = torch.tensor([tokenizer.encode(test_text, add_special_tokens=True)])\n",
    "sep = \"=\"*10\n",
    "print(f\"original text:\\n {test_text}\\n{sep}\\ntokenized id:\\n {input_ids}\")"
   ]
  },
  {
   "cell_type": "markdown",
   "metadata": {
    "colab_type": "text",
    "id": "Trvl_zs7UILV"
   },
   "source": [
    "這裏我們測試一下上述的input ids經過T5模型之後, 會產生什麼樣的輸出呢?\n",
    "因為T5是一個Seq2Seq模型, 給定輸入之後, 模型可以根據給定的輸入而產生輸出。\n",
    "\n",
    "Note: 模型的輸出不做處理的話也會是id, 須經過tokenizer再做一次轉換方可轉換為文字, 達成前面我們所說的text-to-text架構。"
   ]
  },
  {
   "cell_type": "code",
   "execution_count": 13,
   "metadata": {
    "colab": {
     "base_uri": "https://localhost:8080/",
     "height": 34
    },
    "colab_type": "code",
    "id": "bDoCGF4uOsaf",
    "outputId": "a2d0d72d-80c0-4a7d-bd1c-403e4d63e0b0"
   },
   "outputs": [
    {
     "name": "stdout",
     "output_type": "stream",
     "text": [
      "['encode Here is some text to encode Here is some text to encode Here is']\n"
     ]
    }
   ],
   "source": [
    "output = model.generate(input_ids=input_ids, max_length=16)\n",
    "output_detok = [tokenizer.decode(token) for token in output]\n",
    "print(output_detok)"
   ]
  },
  {
   "cell_type": "markdown",
   "metadata": {
    "colab_type": "text",
    "id": "r_s2EpWSU2ii"
   },
   "source": [
    "可以看到, 如果輸入的文字沒有特別的pattern, 經過預訓練的T5不會產出特殊的輸出文字。 然而, 若是T5曾經在NLP下游任務上做過text-to-text的finetuning, 給定對應的文字pattern, T5是會直接吐出我們想要的文字輸出的!\n",
    "\n",
    "下面我們透過[QNLI]()這個T5曾經被訓練過的NLP下游任務, 給定對應的文字pattern, 看看T5是不是會輸出有趣的東西。\n",
    "\n",
    "Question Natural Language Inference (QNLI), 這是一個從經典閱讀理解資料集 --- SQUAD v1.0 --- 中衍伸出來的資料集, 在這個資料集中, 我們期望模型能夠學會判斷, 對於某question而言, 該sentence中是否含有答案? 此為一個二分類任務, 輸出為entailment (label=0) 或 not_entailment (label=1)。"
   ]
  },
  {
   "cell_type": "markdown",
   "metadata": {
    "colab_type": "text",
    "id": "kM3NR8CbXW0e"
   },
   "source": [
    "首先我們給定一個template\"qnli question: {欲給定的問題} sentence: {欲判斷之句子}\", 藉由tokenizer轉換後給T5輸出, 我們會發現T5知道這個句子中含有答案!"
   ]
  },
  {
   "cell_type": "code",
   "execution_count": 17,
   "metadata": {
    "colab": {
     "base_uri": "https://localhost:8080/",
     "height": 34
    },
    "colab_type": "code",
    "id": "bB2M8l9yPf4B",
    "outputId": "4093a0e6-2e71-4062-c73a-c6de0f76a5ba"
   },
   "outputs": [
    {
     "name": "stdout",
     "output_type": "stream",
     "text": [
      "['entailment']\n"
     ]
    }
   ],
   "source": [
    "question = \"Where did Jebe die?\"\n",
    "sentence = \"Genghis Khan recalled Subutai back to Mongolia soon afterwards, and Jebe died on the road back to Samarkand.\"\n",
    "qnli_text = f\"qnli question: {question} sentence: {sentence}\"\n",
    "input_ids = torch.tensor([tokenizer.encode(qnli_text, add_special_tokens=True)])\n",
    "output = model.generate(input_ids=input_ids, max_length=16)\n",
    "output_detok = [tokenizer.decode(token) for token in output]\n",
    "print(output_detok)"
   ]
  },
  {
   "cell_type": "markdown",
   "metadata": {
    "colab_type": "text",
    "id": "udV7LqX9X4pd"
   },
   "source": [
    "若我們做個實驗, 將輸入句子只留下前十個characters, T5會告訴我們什麼呢?"
   ]
  },
  {
   "cell_type": "code",
   "execution_count": 18,
   "metadata": {
    "colab": {
     "base_uri": "https://localhost:8080/",
     "height": 34
    },
    "colab_type": "code",
    "id": "RnA4GHrzYItQ",
    "outputId": "26f5993f-3ff5-4ea8-a4f3-bb9a0c276d98"
   },
   "outputs": [
    {
     "name": "stdout",
     "output_type": "stream",
     "text": [
      "['not_entailment']\n"
     ]
    }
   ],
   "source": [
    "qnli_text = f\"qnli question: {question[:10]} sentence: {sentence}\"\n",
    "input_ids = torch.tensor([tokenizer.encode(qnli_text, add_special_tokens=True)])\n",
    "output = model.generate(input_ids=input_ids, max_length=16)\n",
    "output_detok = [tokenizer.decode(token) for token in output]\n",
    "print(output_detok)"
   ]
  },
  {
   "cell_type": "markdown",
   "metadata": {
    "colab_type": "text",
    "id": "HVY2COdtYYZa"
   },
   "source": [
    "Amazing! T5看起來是對於這樣的QNLI問題文字pattern產生反應的, 也能在一定程度上回答出正確的答案。\n",
    "\n",
    "經過上面的演示, 相信讀者已經了解T5經過特定的文字pattern訓練後, 是能夠對於特定的pattern給出其受過訓練的預測的, 接下來我們將進入WT5論文內容的解讀\n",
    "\n",
    "試想, 若是我們能夠給定訓練文字pattern如: \n",
    "\n",
    "輸入:\"***explain*** qnli question: {欲給定的問題} sentence: {欲判斷之句子}\"\n",
    "\n",
    "輸出:\"{根據該問題準備的解釋文字}\"\n",
    "\n",
    "是否我們就能讓T5除了原本給出的entailment/not entailment分類答案以外, 還能看到explain就輸出它為何會做這樣的分類判斷呢?"
   ]
  },
  {
   "cell_type": "code",
   "execution_count": null,
   "metadata": {
    "colab": {},
    "colab_type": "code",
    "id": "BUeXUeGcY07x"
   },
   "outputs": [],
   "source": []
  }
 ],
 "metadata": {
  "accelerator": "GPU",
  "colab": {
   "collapsed_sections": [],
   "name": "Copy of 2020-06-17-wt5.ipynb",
   "provenance": []
  },
  "kernelspec": {
   "display_name": "Python 3",
   "language": "python",
   "name": "python3"
  },
  "language_info": {
   "codemirror_mode": {
    "name": "ipython",
    "version": 3
   },
   "file_extension": ".py",
   "mimetype": "text/x-python",
   "name": "python",
   "nbconvert_exporter": "python",
   "pygments_lexer": "ipython3",
   "version": "3.6.9"
  },
  "varInspector": {
   "cols": {
    "lenName": 16,
    "lenType": 16,
    "lenVar": 40
   },
   "kernels_config": {
    "python": {
     "delete_cmd_postfix": "",
     "delete_cmd_prefix": "del ",
     "library": "var_list.py",
     "varRefreshCmd": "print(var_dic_list())"
    },
    "r": {
     "delete_cmd_postfix": ") ",
     "delete_cmd_prefix": "rm(",
     "library": "var_list.r",
     "varRefreshCmd": "cat(var_dic_list()) "
    }
   },
   "types_to_exclude": [
    "module",
    "function",
    "builtin_function_or_method",
    "instance",
    "_Feature"
   ],
   "window_display": false
  },
  "widgets": {
   "application/vnd.jupyter.widget-state+json": {
    "0d55595312af47b58ac7e737988f1252": {
     "model_module": "@jupyter-widgets/controls",
     "model_name": "HTMLModel",
     "state": {
      "_dom_classes": [],
      "_model_module": "@jupyter-widgets/controls",
      "_model_module_version": "1.5.0",
      "_model_name": "HTMLModel",
      "_view_count": null,
      "_view_module": "@jupyter-widgets/controls",
      "_view_module_version": "1.5.0",
      "_view_name": "HTMLView",
      "description": "",
      "description_tooltip": null,
      "layout": "IPY_MODEL_8a750d81d93947a8ab72c20b30aa933b",
      "placeholder": "​",
      "style": "IPY_MODEL_a307a48c0ae246fc89737d2a3987f0eb",
      "value": " 792k/792k [00:00&lt;00:00, 842kB/s]"
     }
    },
    "0ec6f5d035854ae3aa2e5c165b1608a6": {
     "model_module": "@jupyter-widgets/base",
     "model_name": "LayoutModel",
     "state": {
      "_model_module": "@jupyter-widgets/base",
      "_model_module_version": "1.2.0",
      "_model_name": "LayoutModel",
      "_view_count": null,
      "_view_module": "@jupyter-widgets/base",
      "_view_module_version": "1.2.0",
      "_view_name": "LayoutView",
      "align_content": null,
      "align_items": null,
      "align_self": null,
      "border": null,
      "bottom": null,
      "display": null,
      "flex": null,
      "flex_flow": null,
      "grid_area": null,
      "grid_auto_columns": null,
      "grid_auto_flow": null,
      "grid_auto_rows": null,
      "grid_column": null,
      "grid_gap": null,
      "grid_row": null,
      "grid_template_areas": null,
      "grid_template_columns": null,
      "grid_template_rows": null,
      "height": null,
      "justify_content": null,
      "justify_items": null,
      "left": null,
      "margin": null,
      "max_height": null,
      "max_width": null,
      "min_height": null,
      "min_width": null,
      "object_fit": null,
      "object_position": null,
      "order": null,
      "overflow": null,
      "overflow_x": null,
      "overflow_y": null,
      "padding": null,
      "right": null,
      "top": null,
      "visibility": null,
      "width": null
     }
    },
    "19b43fa6f4474f32ac7fa91df4e846dd": {
     "model_module": "@jupyter-widgets/controls",
     "model_name": "DescriptionStyleModel",
     "state": {
      "_model_module": "@jupyter-widgets/controls",
      "_model_module_version": "1.5.0",
      "_model_name": "DescriptionStyleModel",
      "_view_count": null,
      "_view_module": "@jupyter-widgets/base",
      "_view_module_version": "1.2.0",
      "_view_name": "StyleView",
      "description_width": ""
     }
    },
    "30652817e6fd4a96bd65bf2ab348009e": {
     "model_module": "@jupyter-widgets/base",
     "model_name": "LayoutModel",
     "state": {
      "_model_module": "@jupyter-widgets/base",
      "_model_module_version": "1.2.0",
      "_model_name": "LayoutModel",
      "_view_count": null,
      "_view_module": "@jupyter-widgets/base",
      "_view_module_version": "1.2.0",
      "_view_name": "LayoutView",
      "align_content": null,
      "align_items": null,
      "align_self": null,
      "border": null,
      "bottom": null,
      "display": null,
      "flex": null,
      "flex_flow": null,
      "grid_area": null,
      "grid_auto_columns": null,
      "grid_auto_flow": null,
      "grid_auto_rows": null,
      "grid_column": null,
      "grid_gap": null,
      "grid_row": null,
      "grid_template_areas": null,
      "grid_template_columns": null,
      "grid_template_rows": null,
      "height": null,
      "justify_content": null,
      "justify_items": null,
      "left": null,
      "margin": null,
      "max_height": null,
      "max_width": null,
      "min_height": null,
      "min_width": null,
      "object_fit": null,
      "object_position": null,
      "order": null,
      "overflow": null,
      "overflow_x": null,
      "overflow_y": null,
      "padding": null,
      "right": null,
      "top": null,
      "visibility": null,
      "width": null
     }
    },
    "3369aa3c5216446aa8a6837c378c1d6c": {
     "model_module": "@jupyter-widgets/controls",
     "model_name": "DescriptionStyleModel",
     "state": {
      "_model_module": "@jupyter-widgets/controls",
      "_model_module_version": "1.5.0",
      "_model_name": "DescriptionStyleModel",
      "_view_count": null,
      "_view_module": "@jupyter-widgets/base",
      "_view_module_version": "1.2.0",
      "_view_name": "StyleView",
      "description_width": ""
     }
    },
    "355d390ffd944514a1885ad65c3b610e": {
     "model_module": "@jupyter-widgets/base",
     "model_name": "LayoutModel",
     "state": {
      "_model_module": "@jupyter-widgets/base",
      "_model_module_version": "1.2.0",
      "_model_name": "LayoutModel",
      "_view_count": null,
      "_view_module": "@jupyter-widgets/base",
      "_view_module_version": "1.2.0",
      "_view_name": "LayoutView",
      "align_content": null,
      "align_items": null,
      "align_self": null,
      "border": null,
      "bottom": null,
      "display": null,
      "flex": null,
      "flex_flow": null,
      "grid_area": null,
      "grid_auto_columns": null,
      "grid_auto_flow": null,
      "grid_auto_rows": null,
      "grid_column": null,
      "grid_gap": null,
      "grid_row": null,
      "grid_template_areas": null,
      "grid_template_columns": null,
      "grid_template_rows": null,
      "height": null,
      "justify_content": null,
      "justify_items": null,
      "left": null,
      "margin": null,
      "max_height": null,
      "max_width": null,
      "min_height": null,
      "min_width": null,
      "object_fit": null,
      "object_position": null,
      "order": null,
      "overflow": null,
      "overflow_x": null,
      "overflow_y": null,
      "padding": null,
      "right": null,
      "top": null,
      "visibility": null,
      "width": null
     }
    },
    "35ee7e2667a14e38b67ffeeb582e1f04": {
     "model_module": "@jupyter-widgets/base",
     "model_name": "LayoutModel",
     "state": {
      "_model_module": "@jupyter-widgets/base",
      "_model_module_version": "1.2.0",
      "_model_name": "LayoutModel",
      "_view_count": null,
      "_view_module": "@jupyter-widgets/base",
      "_view_module_version": "1.2.0",
      "_view_name": "LayoutView",
      "align_content": null,
      "align_items": null,
      "align_self": null,
      "border": null,
      "bottom": null,
      "display": null,
      "flex": null,
      "flex_flow": null,
      "grid_area": null,
      "grid_auto_columns": null,
      "grid_auto_flow": null,
      "grid_auto_rows": null,
      "grid_column": null,
      "grid_gap": null,
      "grid_row": null,
      "grid_template_areas": null,
      "grid_template_columns": null,
      "grid_template_rows": null,
      "height": null,
      "justify_content": null,
      "justify_items": null,
      "left": null,
      "margin": null,
      "max_height": null,
      "max_width": null,
      "min_height": null,
      "min_width": null,
      "object_fit": null,
      "object_position": null,
      "order": null,
      "overflow": null,
      "overflow_x": null,
      "overflow_y": null,
      "padding": null,
      "right": null,
      "top": null,
      "visibility": null,
      "width": null
     }
    },
    "3f4a2457d4bd4d2ea282c2cde7fcea97": {
     "model_module": "@jupyter-widgets/controls",
     "model_name": "ProgressStyleModel",
     "state": {
      "_model_module": "@jupyter-widgets/controls",
      "_model_module_version": "1.5.0",
      "_model_name": "ProgressStyleModel",
      "_view_count": null,
      "_view_module": "@jupyter-widgets/base",
      "_view_module_version": "1.2.0",
      "_view_name": "StyleView",
      "bar_color": null,
      "description_width": "initial"
     }
    },
    "42cd1cbbe5304144bb842adc86e25e92": {
     "model_module": "@jupyter-widgets/controls",
     "model_name": "ProgressStyleModel",
     "state": {
      "_model_module": "@jupyter-widgets/controls",
      "_model_module_version": "1.5.0",
      "_model_name": "ProgressStyleModel",
      "_view_count": null,
      "_view_module": "@jupyter-widgets/base",
      "_view_module_version": "1.2.0",
      "_view_name": "StyleView",
      "bar_color": null,
      "description_width": "initial"
     }
    },
    "45a2033bb2b64247a68aaa1f066c728b": {
     "model_module": "@jupyter-widgets/base",
     "model_name": "LayoutModel",
     "state": {
      "_model_module": "@jupyter-widgets/base",
      "_model_module_version": "1.2.0",
      "_model_name": "LayoutModel",
      "_view_count": null,
      "_view_module": "@jupyter-widgets/base",
      "_view_module_version": "1.2.0",
      "_view_name": "LayoutView",
      "align_content": null,
      "align_items": null,
      "align_self": null,
      "border": null,
      "bottom": null,
      "display": null,
      "flex": null,
      "flex_flow": null,
      "grid_area": null,
      "grid_auto_columns": null,
      "grid_auto_flow": null,
      "grid_auto_rows": null,
      "grid_column": null,
      "grid_gap": null,
      "grid_row": null,
      "grid_template_areas": null,
      "grid_template_columns": null,
      "grid_template_rows": null,
      "height": null,
      "justify_content": null,
      "justify_items": null,
      "left": null,
      "margin": null,
      "max_height": null,
      "max_width": null,
      "min_height": null,
      "min_width": null,
      "object_fit": null,
      "object_position": null,
      "order": null,
      "overflow": null,
      "overflow_x": null,
      "overflow_y": null,
      "padding": null,
      "right": null,
      "top": null,
      "visibility": null,
      "width": null
     }
    },
    "47118c62b3ef4cd4bfef954ba8a275b1": {
     "model_module": "@jupyter-widgets/controls",
     "model_name": "HBoxModel",
     "state": {
      "_dom_classes": [],
      "_model_module": "@jupyter-widgets/controls",
      "_model_module_version": "1.5.0",
      "_model_name": "HBoxModel",
      "_view_count": null,
      "_view_module": "@jupyter-widgets/controls",
      "_view_module_version": "1.5.0",
      "_view_name": "HBoxView",
      "box_style": "",
      "children": [
       "IPY_MODEL_cf829c1151fd41d0ba60a19f9f50e122",
       "IPY_MODEL_66c2aec2732045798819d240d153bc23"
      ],
      "layout": "IPY_MODEL_f6c1b291842f422d98875ab3049ca45b"
     }
    },
    "66c2aec2732045798819d240d153bc23": {
     "model_module": "@jupyter-widgets/controls",
     "model_name": "HTMLModel",
     "state": {
      "_dom_classes": [],
      "_model_module": "@jupyter-widgets/controls",
      "_model_module_version": "1.5.0",
      "_model_name": "HTMLModel",
      "_view_count": null,
      "_view_module": "@jupyter-widgets/controls",
      "_view_module_version": "1.5.0",
      "_view_name": "HTMLView",
      "description": "",
      "description_tooltip": null,
      "layout": "IPY_MODEL_35ee7e2667a14e38b67ffeeb582e1f04",
      "placeholder": "​",
      "style": "IPY_MODEL_19b43fa6f4474f32ac7fa91df4e846dd",
      "value": " 242M/242M [00:05&lt;00:00, 47.4MB/s]"
     }
    },
    "81732920262b417da25bd046c53372c3": {
     "model_module": "@jupyter-widgets/base",
     "model_name": "LayoutModel",
     "state": {
      "_model_module": "@jupyter-widgets/base",
      "_model_module_version": "1.2.0",
      "_model_name": "LayoutModel",
      "_view_count": null,
      "_view_module": "@jupyter-widgets/base",
      "_view_module_version": "1.2.0",
      "_view_name": "LayoutView",
      "align_content": null,
      "align_items": null,
      "align_self": null,
      "border": null,
      "bottom": null,
      "display": null,
      "flex": null,
      "flex_flow": null,
      "grid_area": null,
      "grid_auto_columns": null,
      "grid_auto_flow": null,
      "grid_auto_rows": null,
      "grid_column": null,
      "grid_gap": null,
      "grid_row": null,
      "grid_template_areas": null,
      "grid_template_columns": null,
      "grid_template_rows": null,
      "height": null,
      "justify_content": null,
      "justify_items": null,
      "left": null,
      "margin": null,
      "max_height": null,
      "max_width": null,
      "min_height": null,
      "min_width": null,
      "object_fit": null,
      "object_position": null,
      "order": null,
      "overflow": null,
      "overflow_x": null,
      "overflow_y": null,
      "padding": null,
      "right": null,
      "top": null,
      "visibility": null,
      "width": null
     }
    },
    "8a750d81d93947a8ab72c20b30aa933b": {
     "model_module": "@jupyter-widgets/base",
     "model_name": "LayoutModel",
     "state": {
      "_model_module": "@jupyter-widgets/base",
      "_model_module_version": "1.2.0",
      "_model_name": "LayoutModel",
      "_view_count": null,
      "_view_module": "@jupyter-widgets/base",
      "_view_module_version": "1.2.0",
      "_view_name": "LayoutView",
      "align_content": null,
      "align_items": null,
      "align_self": null,
      "border": null,
      "bottom": null,
      "display": null,
      "flex": null,
      "flex_flow": null,
      "grid_area": null,
      "grid_auto_columns": null,
      "grid_auto_flow": null,
      "grid_auto_rows": null,
      "grid_column": null,
      "grid_gap": null,
      "grid_row": null,
      "grid_template_areas": null,
      "grid_template_columns": null,
      "grid_template_rows": null,
      "height": null,
      "justify_content": null,
      "justify_items": null,
      "left": null,
      "margin": null,
      "max_height": null,
      "max_width": null,
      "min_height": null,
      "min_width": null,
      "object_fit": null,
      "object_position": null,
      "order": null,
      "overflow": null,
      "overflow_x": null,
      "overflow_y": null,
      "padding": null,
      "right": null,
      "top": null,
      "visibility": null,
      "width": null
     }
    },
    "8c212a44e04145ed9badace4822ab07c": {
     "model_module": "@jupyter-widgets/base",
     "model_name": "LayoutModel",
     "state": {
      "_model_module": "@jupyter-widgets/base",
      "_model_module_version": "1.2.0",
      "_model_name": "LayoutModel",
      "_view_count": null,
      "_view_module": "@jupyter-widgets/base",
      "_view_module_version": "1.2.0",
      "_view_name": "LayoutView",
      "align_content": null,
      "align_items": null,
      "align_self": null,
      "border": null,
      "bottom": null,
      "display": null,
      "flex": null,
      "flex_flow": null,
      "grid_area": null,
      "grid_auto_columns": null,
      "grid_auto_flow": null,
      "grid_auto_rows": null,
      "grid_column": null,
      "grid_gap": null,
      "grid_row": null,
      "grid_template_areas": null,
      "grid_template_columns": null,
      "grid_template_rows": null,
      "height": null,
      "justify_content": null,
      "justify_items": null,
      "left": null,
      "margin": null,
      "max_height": null,
      "max_width": null,
      "min_height": null,
      "min_width": null,
      "object_fit": null,
      "object_position": null,
      "order": null,
      "overflow": null,
      "overflow_x": null,
      "overflow_y": null,
      "padding": null,
      "right": null,
      "top": null,
      "visibility": null,
      "width": null
     }
    },
    "90490c4924cc42ec847c3b2674f00ab9": {
     "model_module": "@jupyter-widgets/controls",
     "model_name": "HBoxModel",
     "state": {
      "_dom_classes": [],
      "_model_module": "@jupyter-widgets/controls",
      "_model_module_version": "1.5.0",
      "_model_name": "HBoxModel",
      "_view_count": null,
      "_view_module": "@jupyter-widgets/controls",
      "_view_module_version": "1.5.0",
      "_view_name": "HBoxView",
      "box_style": "",
      "children": [
       "IPY_MODEL_d53fe158e4fc45ddb4024c965b7b67ce",
       "IPY_MODEL_ecbf5ab2ccfd42c6871594602617ee11"
      ],
      "layout": "IPY_MODEL_0ec6f5d035854ae3aa2e5c165b1608a6"
     }
    },
    "97e4559267194be89b0a1b65b4eca32d": {
     "model_module": "@jupyter-widgets/controls",
     "model_name": "HBoxModel",
     "state": {
      "_dom_classes": [],
      "_model_module": "@jupyter-widgets/controls",
      "_model_module_version": "1.5.0",
      "_model_name": "HBoxModel",
      "_view_count": null,
      "_view_module": "@jupyter-widgets/controls",
      "_view_module_version": "1.5.0",
      "_view_name": "HBoxView",
      "box_style": "",
      "children": [
       "IPY_MODEL_d3512005069744a5bb69759e64933c06",
       "IPY_MODEL_0d55595312af47b58ac7e737988f1252"
      ],
      "layout": "IPY_MODEL_30652817e6fd4a96bd65bf2ab348009e"
     }
    },
    "99fea38f75d046838d36d40378b3f639": {
     "model_module": "@jupyter-widgets/controls",
     "model_name": "ProgressStyleModel",
     "state": {
      "_model_module": "@jupyter-widgets/controls",
      "_model_module_version": "1.5.0",
      "_model_name": "ProgressStyleModel",
      "_view_count": null,
      "_view_module": "@jupyter-widgets/base",
      "_view_module_version": "1.2.0",
      "_view_name": "StyleView",
      "bar_color": null,
      "description_width": "initial"
     }
    },
    "a307a48c0ae246fc89737d2a3987f0eb": {
     "model_module": "@jupyter-widgets/controls",
     "model_name": "DescriptionStyleModel",
     "state": {
      "_model_module": "@jupyter-widgets/controls",
      "_model_module_version": "1.5.0",
      "_model_name": "DescriptionStyleModel",
      "_view_count": null,
      "_view_module": "@jupyter-widgets/base",
      "_view_module_version": "1.2.0",
      "_view_name": "StyleView",
      "description_width": ""
     }
    },
    "cf829c1151fd41d0ba60a19f9f50e122": {
     "model_module": "@jupyter-widgets/controls",
     "model_name": "FloatProgressModel",
     "state": {
      "_dom_classes": [],
      "_model_module": "@jupyter-widgets/controls",
      "_model_module_version": "1.5.0",
      "_model_name": "FloatProgressModel",
      "_view_count": null,
      "_view_module": "@jupyter-widgets/controls",
      "_view_module_version": "1.5.0",
      "_view_name": "ProgressView",
      "bar_style": "success",
      "description": "Downloading: 100%",
      "description_tooltip": null,
      "layout": "IPY_MODEL_45a2033bb2b64247a68aaa1f066c728b",
      "max": 242136741,
      "min": 0,
      "orientation": "horizontal",
      "style": "IPY_MODEL_99fea38f75d046838d36d40378b3f639",
      "value": 242136741
     }
    },
    "d3512005069744a5bb69759e64933c06": {
     "model_module": "@jupyter-widgets/controls",
     "model_name": "FloatProgressModel",
     "state": {
      "_dom_classes": [],
      "_model_module": "@jupyter-widgets/controls",
      "_model_module_version": "1.5.0",
      "_model_name": "FloatProgressModel",
      "_view_count": null,
      "_view_module": "@jupyter-widgets/controls",
      "_view_module_version": "1.5.0",
      "_view_name": "ProgressView",
      "bar_style": "success",
      "description": "Downloading: 100%",
      "description_tooltip": null,
      "layout": "IPY_MODEL_8c212a44e04145ed9badace4822ab07c",
      "max": 791656,
      "min": 0,
      "orientation": "horizontal",
      "style": "IPY_MODEL_3f4a2457d4bd4d2ea282c2cde7fcea97",
      "value": 791656
     }
    },
    "d53fe158e4fc45ddb4024c965b7b67ce": {
     "model_module": "@jupyter-widgets/controls",
     "model_name": "FloatProgressModel",
     "state": {
      "_dom_classes": [],
      "_model_module": "@jupyter-widgets/controls",
      "_model_module_version": "1.5.0",
      "_model_name": "FloatProgressModel",
      "_view_count": null,
      "_view_module": "@jupyter-widgets/controls",
      "_view_module_version": "1.5.0",
      "_view_name": "ProgressView",
      "bar_style": "success",
      "description": "Downloading: 100%",
      "description_tooltip": null,
      "layout": "IPY_MODEL_81732920262b417da25bd046c53372c3",
      "max": 1197,
      "min": 0,
      "orientation": "horizontal",
      "style": "IPY_MODEL_42cd1cbbe5304144bb842adc86e25e92",
      "value": 1197
     }
    },
    "ecbf5ab2ccfd42c6871594602617ee11": {
     "model_module": "@jupyter-widgets/controls",
     "model_name": "HTMLModel",
     "state": {
      "_dom_classes": [],
      "_model_module": "@jupyter-widgets/controls",
      "_model_module_version": "1.5.0",
      "_model_name": "HTMLModel",
      "_view_count": null,
      "_view_module": "@jupyter-widgets/controls",
      "_view_module_version": "1.5.0",
      "_view_name": "HTMLView",
      "description": "",
      "description_tooltip": null,
      "layout": "IPY_MODEL_355d390ffd944514a1885ad65c3b610e",
      "placeholder": "​",
      "style": "IPY_MODEL_3369aa3c5216446aa8a6837c378c1d6c",
      "value": " 1.20k/1.20k [00:00&lt;00:00, 3.26kB/s]"
     }
    },
    "f6c1b291842f422d98875ab3049ca45b": {
     "model_module": "@jupyter-widgets/base",
     "model_name": "LayoutModel",
     "state": {
      "_model_module": "@jupyter-widgets/base",
      "_model_module_version": "1.2.0",
      "_model_name": "LayoutModel",
      "_view_count": null,
      "_view_module": "@jupyter-widgets/base",
      "_view_module_version": "1.2.0",
      "_view_name": "LayoutView",
      "align_content": null,
      "align_items": null,
      "align_self": null,
      "border": null,
      "bottom": null,
      "display": null,
      "flex": null,
      "flex_flow": null,
      "grid_area": null,
      "grid_auto_columns": null,
      "grid_auto_flow": null,
      "grid_auto_rows": null,
      "grid_column": null,
      "grid_gap": null,
      "grid_row": null,
      "grid_template_areas": null,
      "grid_template_columns": null,
      "grid_template_rows": null,
      "height": null,
      "justify_content": null,
      "justify_items": null,
      "left": null,
      "margin": null,
      "max_height": null,
      "max_width": null,
      "min_height": null,
      "min_width": null,
      "object_fit": null,
      "object_position": null,
      "order": null,
      "overflow": null,
      "overflow_x": null,
      "overflow_y": null,
      "padding": null,
      "right": null,
      "top": null,
      "visibility": null,
      "width": null
     }
    }
   }
  }
 },
 "nbformat": 4,
 "nbformat_minor": 4
}
